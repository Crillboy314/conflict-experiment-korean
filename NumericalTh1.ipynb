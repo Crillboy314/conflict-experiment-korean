{
  "nbformat": 4,
  "nbformat_minor": 0,
  "metadata": {
    "colab": {
      "provenance": [],
      "authorship_tag": "ABX9TyPi5w/zpZf1eMGlQBV8UAOw",
      "include_colab_link": true
    },
    "kernelspec": {
      "name": "python3",
      "display_name": "Python 3"
    },
    "language_info": {
      "name": "python"
    }
  },
  "cells": [
    {
      "cell_type": "markdown",
      "metadata": {
        "id": "view-in-github",
        "colab_type": "text"
      },
      "source": [
        "<a href=\"https://colab.research.google.com/github/promeroec/conflict-experiment-korean/blob/master/NumericalTh1.ipynb\" target=\"_parent\"><img src=\"https://colab.research.google.com/assets/colab-badge.svg\" alt=\"Open In Colab\"/></a>"
      ]
    },
    {
      "cell_type": "code",
      "source": [
        "import numpy as np\n",
        "from scipy.integrate import quad\n",
        "from scipy.optimize import root_scalar\n",
        "from scipy.special import erfinv\n",
        "\n",
        "# Define the cost values\n",
        "cost_values = [0.01, 0.05, 0.1]\n",
        "\n",
        "# Define the functions\n",
        "def D(theta, c):\n",
        "    return np.maximum(1 - theta - c, 0)\n",
        "\n",
        "def U(theta, c):\n",
        "    return np.minimum(-theta - c, -c)\n",
        "\n",
        "def g(theta, c):\n",
        "    return 0.5 * (1 + theta - c)\n",
        "\n",
        "# Define the inverse CDF of the standard normal distribution\n",
        "def F_eta_inv(p):\n",
        "    return np.sqrt(2) * erfinv(2 * p - 1)\n",
        "\n",
        "# Define the function to find the root\n",
        "def v_tilde(theta, c):\n",
        "    g_theta_f = g(theta, c)\n",
        "    U_integral, _ = quad(lambda A: U(theta - F_eta_inv(A), c), 0, g_theta_f)\n",
        "    D_integral, _ = quad(lambda A: D(theta - F_eta_inv(A), c), g_theta_f, 1)\n",
        "    return U_integral + D_integral\n",
        "\n",
        "# Solve for theta^* for each cost value\n",
        "solutions = {}\n",
        "for c in cost_values:\n",
        "    sol = root_scalar(v_tilde, args=(c,), bracket=[0, 1], method='bisect')\n",
        "    solutions[c] = sol.root\n",
        "\n",
        "solutions\n"
      ],
      "metadata": {
        "colab": {
          "base_uri": "https://localhost:8080/"
        },
        "id": "4CM38IHtXcjs",
        "outputId": "19d932c4-52bb-47f1-86f6-762c7634e5d6"
      },
      "execution_count": 2,
      "outputs": [
        {
          "output_type": "execute_result",
          "data": {
            "text/plain": [
              "{0.01: 0.3291662717183499, 0.05: 0.3165941660208773, 0.1: 0.3000000000010914}"
            ]
          },
          "metadata": {},
          "execution_count": 2
        }
      ]
    }
  ]
}