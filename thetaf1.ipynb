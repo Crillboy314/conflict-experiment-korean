{
  "nbformat": 4,
  "nbformat_minor": 0,
  "metadata": {
    "colab": {
      "provenance": [],
      "authorship_tag": "ABX9TyMW1wqmtwAf1svhip2QQb/f",
      "include_colab_link": true
    },
    "kernelspec": {
      "name": "python3",
      "display_name": "Python 3"
    },
    "language_info": {
      "name": "python"
    }
  },
  "cells": [
    {
      "cell_type": "markdown",
      "metadata": {
        "id": "view-in-github",
        "colab_type": "text"
      },
      "source": [
        "<a href=\"https://colab.research.google.com/github/promeroec/conflict-experiment-korean/blob/master/thetaf1.ipynb\" target=\"_parent\"><img src=\"https://colab.research.google.com/assets/colab-badge.svg\" alt=\"Open In Colab\"/></a>"
      ]
    },
    {
      "cell_type": "code",
      "execution_count": 1,
      "metadata": {
        "colab": {
          "base_uri": "https://localhost:8080/"
        },
        "id": "ARlzLF_Soe9e",
        "outputId": "485c2ec3-50c4-49af-db77-fcd3b5c2a64e"
      },
      "outputs": [
        {
          "output_type": "execute_result",
          "data": {
            "text/plain": [
              "0.24664428921596482"
            ]
          },
          "metadata": {},
          "execution_count": 1
        }
      ],
      "source": [
        "import numpy as np\n",
        "from scipy.stats import norm\n",
        "from scipy.optimize import root_scalar\n",
        "\n",
        "# Parameters\n",
        "sigma_eta = 1\n",
        "k = 5\n",
        "theta_0 = 0\n",
        "c = 0.05\n",
        "\n",
        "# Define the functions\n",
        "def A(theta, theta_star):\n",
        "    return norm.cdf((theta_star - theta) / sigma_eta)\n",
        "\n",
        "def g(theta):\n",
        "    return 1 / (1 + np.exp(-k * (theta - theta_0)))\n",
        "\n",
        "# Define the function to find the root\n",
        "def equilibrium_condition(theta_star):\n",
        "    def diff(theta):\n",
        "        return A(theta, theta_star) - g(theta)\n",
        "    return diff\n",
        "\n",
        "# Solve for theta^*\n",
        "solution = root_scalar(equilibrium_condition(1), bracket=[-3, 3], method='bisect')\n",
        "\n",
        "theta_star = solution.root\n",
        "theta_star\n"
      ]
    }
  ]
}